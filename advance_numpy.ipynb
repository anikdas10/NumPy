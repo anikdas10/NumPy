{
 "cells": [
  {
   "cell_type": "code",
   "execution_count": 2,
   "id": "9c85f24b",
   "metadata": {},
   "outputs": [],
   "source": [
    "import numpy as np"
   ]
  },
  {
   "cell_type": "markdown",
   "id": "654f2d27",
   "metadata": {},
   "source": [
    "NumPy array vs Python lists"
   ]
  },
  {
   "cell_type": "code",
   "execution_count": 39,
   "id": "b012f90f",
   "metadata": {},
   "outputs": [
    {
     "name": "stdout",
     "output_type": "stream",
     "text": [
      "0.7076723575592041\n"
     ]
    }
   ],
   "source": [
    "# Speed\n",
    "# list\n",
    "import time\n",
    "\n",
    "a = [i for i in range(10000000)]\n",
    "b = [i for i in range(10000000, 20000000)]\n",
    "\n",
    "\n",
    "start = time.time()\n",
    "# for i in range(len(a)):\n",
    "#     c.append(a[i] + b[i])\n",
    "c = a + b\n",
    "\n",
    "\n",
    "print(time.time() - start)"
   ]
  },
  {
   "cell_type": "code",
   "execution_count": 45,
   "id": "b6574a0c",
   "metadata": {},
   "outputs": [
    {
     "name": "stdout",
     "output_type": "stream",
     "text": [
      "0.05483293533325195\n"
     ]
    }
   ],
   "source": [
    "# numpy\n",
    "\n",
    "a = np.arange(10000000)\n",
    "b = np.arange(10000000, 20000000)\n",
    "\n",
    "start = time.time()\n",
    "c = a + b\n",
    "\n",
    "print(time.time() - start)"
   ]
  },
  {
   "cell_type": "code",
   "execution_count": 50,
   "id": "d65513e1",
   "metadata": {},
   "outputs": [
    {
     "data": {
      "text/plain": [
       "89095160"
      ]
     },
     "execution_count": 50,
     "metadata": {},
     "output_type": "execute_result"
    }
   ],
   "source": [
    "# memory\n",
    "import sys\n",
    "\n",
    "a = [i for i in range(10000000)]\n",
    "sys.getsizeof(a)"
   ]
  },
  {
   "cell_type": "code",
   "execution_count": 58,
   "id": "b9dd43fd",
   "metadata": {},
   "outputs": [
    {
     "data": {
      "text/plain": [
       "20000112"
      ]
     },
     "execution_count": 58,
     "metadata": {},
     "output_type": "execute_result"
    }
   ],
   "source": [
    "b = np.arange(10000000, dtype=np.int16)\n",
    "sys.getsizeof(b)"
   ]
  },
  {
   "cell_type": "code",
   "execution_count": null,
   "id": "5786ef5a",
   "metadata": {},
   "outputs": [],
   "source": [
    "# convenience"
   ]
  },
  {
   "cell_type": "markdown",
   "id": "841ffb2b",
   "metadata": {},
   "source": [
    "Advance indexing"
   ]
  },
  {
   "cell_type": "code",
   "execution_count": 3,
   "id": "34e014b8",
   "metadata": {},
   "outputs": [
    {
     "name": "stdout",
     "output_type": "stream",
     "text": [
      "[[ 0  1  2  3]\n",
      " [ 4  5  6  7]\n",
      " [ 8  9 10 11]\n",
      " [12 13 14 15]\n",
      " [16 17 18 19]\n",
      " [20 21 22 23]]\n"
     ]
    },
    {
     "data": {
      "text/plain": [
       "array([[ 5,  6,  7],\n",
       "       [ 9, 10, 11]])"
      ]
     },
     "execution_count": 3,
     "metadata": {},
     "output_type": "execute_result"
    }
   ],
   "source": [
    "# normal indexing and slicing\n",
    "\n",
    "a = np.arange(24).reshape(6, 4)\n",
    "print(a)\n",
    "a[1:3, 1:]"
   ]
  },
  {
   "cell_type": "code",
   "execution_count": null,
   "id": "4fa0c3e0",
   "metadata": {},
   "outputs": [
    {
     "data": {
      "text/plain": [
       "array([[ 0,  1,  2,  3],\n",
       "       [ 8,  9, 10, 11],\n",
       "       [12, 13, 14, 15],\n",
       "       [16, 17, 18, 19]])"
      ]
     },
     "execution_count": 6,
     "metadata": {},
     "output_type": "execute_result"
    }
   ],
   "source": [
    "# Fancy indexing\n",
    "a[[0, 2, 3, 4]]  # for row\n",
    "# a[[0, 2, 3]]  # provide a list\n",
    "\n",
    "a[:, [0, 2, 3]]"
   ]
  },
  {
   "cell_type": "code",
   "execution_count": null,
   "id": "ff24e5b6",
   "metadata": {},
   "outputs": [
    {
     "data": {
      "text/plain": [
       "array([ 8, 58, 88, 36, 64, 50, 60, 28, 56, 44, 94, 42, 88, 30, 18],\n",
       "      dtype=int32)"
      ]
     },
     "execution_count": 8,
     "metadata": {},
     "output_type": "execute_result"
    }
   ],
   "source": [
    "# boolean indexing\n",
    "\n",
    "a = np.random.randint(1, 100, 24).reshape(\n",
    "    6, 4\n",
    ")  # 1-100->  is range and 24 is the how many number I want\n"
   ]
  },
  {
   "cell_type": "code",
   "execution_count": 11,
   "id": "04c6938d",
   "metadata": {},
   "outputs": [
    {
     "data": {
      "text/plain": [
       "array([58, 53, 88, 77, 64, 60, 89, 56, 99, 94, 88, 51], dtype=int32)"
      ]
     },
     "execution_count": 11,
     "metadata": {},
     "output_type": "execute_result"
    }
   ],
   "source": [
    "# find  all numbers grater than 50\n",
    "\n",
    "a[a > 50]"
   ]
  },
  {
   "cell_type": "code",
   "execution_count": 15,
   "id": "0c994a8b",
   "metadata": {},
   "outputs": [
    {
     "data": {
      "text/plain": [
       "array([58, 88, 64, 60, 56, 94, 88], dtype=int32)"
      ]
     },
     "execution_count": 15,
     "metadata": {},
     "output_type": "execute_result"
    }
   ],
   "source": [
    "# find out even numbers\n",
    "a[a % 2 == 0]\n",
    "# find all numbers grater than 50 and are even\n",
    "a[(a > 50) & (a % 2 == 0)]"
   ]
  },
  {
   "cell_type": "code",
   "execution_count": 17,
   "id": "a1f81b76",
   "metadata": {},
   "outputs": [
    {
     "data": {
      "text/plain": [
       "array([ 8, 58, 53,  3, 88, 36, 64,  3, 31, 50, 60, 89, 44, 99, 94, 88, 30,\n",
       "       18, 51, 13], dtype=int32)"
      ]
     },
     "execution_count": 17,
     "metadata": {},
     "output_type": "execute_result"
    }
   ],
   "source": [
    "# find all numbers not divisible by 7\n",
    "\n",
    "a[a % 7 != 0]"
   ]
  },
  {
   "cell_type": "markdown",
   "id": "65dc9240",
   "metadata": {},
   "source": [
    "# Broadcasting \n",
    "\n",
    "The term broadcasting describes how numPy treats arrays with different shapes during arithmetic operations. "
   ]
  },
  {
   "cell_type": "code",
   "execution_count": 19,
   "id": "27e44e21",
   "metadata": {},
   "outputs": [
    {
     "name": "stdout",
     "output_type": "stream",
     "text": [
      "[[0 1 2]\n",
      " [3 4 5]]\n",
      "[[ 6  7  8]\n",
      " [ 9 10 11]]\n",
      "[[ 6  8 10]\n",
      " [12 14 16]]\n"
     ]
    }
   ],
   "source": [
    "# same shape\n",
    "\n",
    "a = np.arange(6).reshape(2, 3)\n",
    "b = np.arange(6, 12).reshape(2, 3)\n",
    "print(a)\n",
    "print(b)\n",
    "print(a + b)"
   ]
  },
  {
   "cell_type": "code",
   "execution_count": 21,
   "id": "679114b8",
   "metadata": {},
   "outputs": [
    {
     "name": "stdout",
     "output_type": "stream",
     "text": [
      "a [[0 1 2]\n",
      " [3 4 5]]\n",
      "b [[0 1 2]]\n",
      "[[0 2 4]\n",
      " [3 5 7]]\n"
     ]
    }
   ],
   "source": [
    "# different\n",
    "a = np.arange(6).reshape(2, 3)\n",
    "b = np.arange(3).reshape(1, 3)\n",
    "print(\"a\", a)\n",
    "print(\"b\", b)\n",
    "print(a + b)"
   ]
  },
  {
   "cell_type": "code",
   "execution_count": 24,
   "id": "f1f2e9c1",
   "metadata": {},
   "outputs": [
    {
     "name": "stdout",
     "output_type": "stream",
     "text": [
      "[[ 0  1  2]\n",
      " [ 3  4  5]\n",
      " [ 6  7  8]\n",
      " [ 9 10 11]]\n",
      "[0 1 2]\n",
      "Broadcast [[ 0  2  4]\n",
      " [ 3  5  7]\n",
      " [ 6  8 10]\n",
      " [ 9 11 13]]\n"
     ]
    }
   ],
   "source": [
    "a = np.arange(12).reshape(4, 3)\n",
    "b = np.arange(3)\n",
    "print(a)\n",
    "print(b)\n",
    "\n",
    "print(\"Broadcast\", a + b)"
   ]
  },
  {
   "cell_type": "code",
   "execution_count": 26,
   "id": "17bba624",
   "metadata": {},
   "outputs": [
    {
     "name": "stdout",
     "output_type": "stream",
     "text": [
      "[[ 0  1  2  3]\n",
      " [ 4  5  6  7]\n",
      " [ 8  9 10 11]]\n",
      "[0 1 2]\n"
     ]
    }
   ],
   "source": [
    "a = np.arange(12).reshape(3, 4)\n",
    "b = np.arange(3)\n",
    "print(a)\n",
    "print(b)\n",
    "\n",
    "# print(\"Broadcast\", a + b) cannot working broadcasting"
   ]
  },
  {
   "cell_type": "code",
   "execution_count": 29,
   "id": "928488cd",
   "metadata": {},
   "outputs": [
    {
     "name": "stdout",
     "output_type": "stream",
     "text": [
      "[[0 1 2 3]\n",
      " [1 2 3 4]\n",
      " [2 3 4 5]]\n"
     ]
    }
   ],
   "source": [
    "a = np.arange(4).reshape(1, 4)\n",
    "b = np.arange(3).reshape(3, 1)\n",
    "print(a + b)"
   ]
  },
  {
   "cell_type": "code",
   "execution_count": 31,
   "id": "976d3771",
   "metadata": {},
   "outputs": [
    {
     "ename": "ValueError",
     "evalue": "operands could not be broadcast together with shapes (2,2) (3,1) ",
     "output_type": "error",
     "traceback": [
      "\u001b[31m---------------------------------------------------------------------------\u001b[39m",
      "\u001b[31mValueError\u001b[39m                                Traceback (most recent call last)",
      "\u001b[36mCell\u001b[39m\u001b[36m \u001b[39m\u001b[32mIn[31]\u001b[39m\u001b[32m, line 3\u001b[39m\n\u001b[32m      1\u001b[39m a = np.arange(\u001b[32m16\u001b[39m).reshape(\u001b[32m4\u001b[39m, \u001b[32m4\u001b[39m)\n\u001b[32m      2\u001b[39m a = np.arange(\u001b[32m4\u001b[39m).reshape(\u001b[32m2\u001b[39m, \u001b[32m2\u001b[39m)\n\u001b[32m----> \u001b[39m\u001b[32m3\u001b[39m \u001b[38;5;28mprint\u001b[39m(\u001b[43ma\u001b[49m\u001b[43m \u001b[49m\u001b[43m+\u001b[49m\u001b[43m \u001b[49m\u001b[43mb\u001b[49m)\n",
      "\u001b[31mValueError\u001b[39m: operands could not be broadcast together with shapes (2,2) (3,1) "
     ]
    }
   ],
   "source": [
    "a = np.arange(16).reshape(4, 4)\n",
    "a = np.arange(4).reshape(2, 2)\n",
    "print(a + b)"
   ]
  },
  {
   "cell_type": "markdown",
   "id": "db24e117",
   "metadata": {},
   "source": [
    "Working with mathematical formulas"
   ]
  },
  {
   "cell_type": "code",
   "execution_count": 34,
   "id": "0e05b231",
   "metadata": {},
   "outputs": [
    {
     "data": {
      "text/plain": [
       "array([ 0.        ,  0.84147098,  0.90929743,  0.14112001, -0.7568025 ,\n",
       "       -0.95892427, -0.2794155 ,  0.6569866 ,  0.98935825,  0.41211849])"
      ]
     },
     "execution_count": 34,
     "metadata": {},
     "output_type": "execute_result"
    }
   ],
   "source": [
    "a = np.arange(10)\n",
    "np.sin(a)"
   ]
  },
  {
   "cell_type": "code",
   "execution_count": 36,
   "id": "dcace61f",
   "metadata": {},
   "outputs": [
    {
     "data": {
      "text/plain": [
       "array([0.5       , 0.73105858, 0.88079708, 0.95257413, 0.98201379,\n",
       "       0.99330715, 0.99752738, 0.99908895, 0.99966465, 0.99987661])"
      ]
     },
     "execution_count": 36,
     "metadata": {},
     "output_type": "execute_result"
    }
   ],
   "source": [
    "# sigmoid (very important in ml and dl)\n",
    "def sigmoid(arr):\n",
    "    return 1 / (1 + np.exp(-(arr)))\n",
    "\n",
    "\n",
    "sigmoid(a)"
   ]
  },
  {
   "cell_type": "code",
   "execution_count": 47,
   "id": "a3034670",
   "metadata": {},
   "outputs": [],
   "source": [
    "# mean squire error\n",
    "actual = np.random.randint(1, 50, 25)\n",
    "predicted = np.random.randint(1, 50, 25)"
   ]
  },
  {
   "cell_type": "code",
   "execution_count": 48,
   "id": "abb6e5b8",
   "metadata": {},
   "outputs": [
    {
     "data": {
      "text/plain": [
       "np.float64(430.92)"
      ]
     },
     "execution_count": 48,
     "metadata": {},
     "output_type": "execute_result"
    }
   ],
   "source": [
    "def mse(actual, predicted):\n",
    "    return np.mean((actual - predicted) ** 2)\n",
    "\n",
    "\n",
    "mse(actual, predicted)"
   ]
  },
  {
   "cell_type": "code",
   "execution_count": 53,
   "id": "a29ed185",
   "metadata": {},
   "outputs": [],
   "source": [
    "# categorical cross entropy\n",
    "\n",
    "y1 = np.random.randint(1, 50, 25)\n",
    "y2 = np.random.random(25)"
   ]
  },
  {
   "cell_type": "code",
   "execution_count": 57,
   "id": "42a6f96c",
   "metadata": {},
   "outputs": [
    {
     "data": {
      "text/plain": [
       "np.float64(852.6938824432891)"
      ]
     },
     "execution_count": 57,
     "metadata": {},
     "output_type": "execute_result"
    }
   ],
   "source": [
    "def cce(y1, y2):\n",
    "    return -(np.sum(y1 * np.log(y2)))\n",
    "\n",
    "\n",
    "cce(y1, y2)"
   ]
  },
  {
   "cell_type": "markdown",
   "id": "1bcd998e",
   "metadata": {},
   "source": [
    "Working with missing value\n",
    " "
   ]
  },
  {
   "cell_type": "code",
   "execution_count": 64,
   "id": "35342f42",
   "metadata": {},
   "outputs": [
    {
     "data": {
      "text/plain": [
       "array([1., 2., 3., 4., 6.])"
      ]
     },
     "execution_count": 64,
     "metadata": {},
     "output_type": "execute_result"
    }
   ],
   "source": [
    "a = np.array([1, 2, 3, 4, np.nan, 6])\n",
    "a[~np.isnan(a)]"
   ]
  },
  {
   "cell_type": "markdown",
   "id": "9508345c",
   "metadata": {},
   "source": [
    "plotting graphs"
   ]
  },
  {
   "cell_type": "code",
   "execution_count": 16,
   "id": "9a7cee4c",
   "metadata": {},
   "outputs": [
    {
     "data": {
      "image/png": "[encoded data removed]",
      "text/plain": [
       "<Figure size 640x480 with 1 Axes>"
      ]
     },
     "metadata": {},
     "output_type": "display_data"
    }
   ],
   "source": [
    "# plotting a 2D array\n",
    "# x = y\n",
    "import matplotlib.pyplot as plt\n",
    "\n",
    "x = np.linspace(-10, 10, 100)\n",
    "y = x\n",
    "plt.plot(x, y)\n",
    "plt.axhline(y=0, color=\"black\")\n",
    "plt.axvline(x=0, color=\"black\")\n",
    "plt.show()"
   ]
  },
  {
   "cell_type": "code",
   "execution_count": 18,
   "id": "9249804d",
   "metadata": {},
   "outputs": [
    {
     "data": {
      "image/png": "[encoded data removed]",
      "text/plain": [
       "<Figure size 640x480 with 1 Axes>"
      ]
     },
     "metadata": {},
     "output_type": "display_data"
    }
   ],
   "source": [
    "y = x**2\n",
    "plt.plot(x, y)\n",
    "plt.axhline(y=0, color=\"black\")\n",
    "plt.axvline(x=0, color=\"black\")\n",
    "plt.show()"
   ]
  },
  {
   "cell_type": "code",
   "execution_count": 19,
   "id": "8efe542a",
   "metadata": {},
   "outputs": [
    {
     "data": {
      "image/png": "[encoded data removed]",
      "text/plain": [
       "<Figure size 640x480 with 1 Axes>"
      ]
     },
     "metadata": {},
     "output_type": "display_data"
    }
   ],
   "source": [
    "y = np.sin(x)\n",
    "plt.plot(x, y)\n",
    "plt.axhline(y=0, color=\"black\")\n",
    "plt.axvline(x=0, color=\"black\")\n",
    "plt.show()"
   ]
  },
  {
   "cell_type": "code",
   "execution_count": 21,
   "id": "3ac7604e",
   "metadata": {},
   "outputs": [
    {
     "name": "stderr",
     "output_type": "stream",
     "text": [
      "C:\\Users\\LENOVO\\AppData\\Local\\Temp\\ipykernel_7280\\57026317.py:1: RuntimeWarning: invalid value encountered in log\n",
      "  y = x * np.log(x)\n"
     ]
    },
    {
     "data": {
      "image/png": "[encoded data removed]",
      "text/plain": [
       "<Figure size 640x480 with 1 Axes>"
      ]
     },
     "metadata": {},
     "output_type": "display_data"
    }
   ],
   "source": [
    "y = x * np.log(x)\n",
    "plt.plot(x, y)\n",
    "plt.axhline(y=0, color=\"black\")\n",
    "plt.axvline(x=0, color=\"black\")\n",
    "plt.show()"
   ]
  },
  {
   "cell_type": "code",
   "execution_count": 24,
   "id": "974d4c35",
   "metadata": {},
   "outputs": [
    {
     "data": {
      "image/png": "[encoded data removed]",
      "text/plain": [
       "<Figure size 640x480 with 1 Axes>"
      ]
     },
     "metadata": {},
     "output_type": "display_data"
    }
   ],
   "source": [
    "# sigmoid\n",
    "\n",
    "y = 1 / (1 + np.exp(-x))\n",
    "plt.plot(x, y)\n",
    "plt.axhline(y=0, color=\"black\")\n",
    "plt.axvline(x=0, color=\"black\")\n",
    "plt.show()"
   ]
  }
 ],
 "metadata": {
  "kernelspec": {
   "display_name": "Python 3",
   "language": "python",
   "name": "python3"
  },
  "language_info": {
   "codemirror_mode": {
    "name": "ipython",
    "version": 3
   },
   "file_extension": ".py",
   "mimetype": "text/x-python",
   "name": "python",
   "nbconvert_exporter": "python",
   "pygments_lexer": "ipython3",
   "version": "3.12.10"
  }
 },
 "nbformat": 4,
 "nbformat_minor": 5
}
