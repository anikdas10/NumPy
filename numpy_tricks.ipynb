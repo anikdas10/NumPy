{
 "cells": [
  {
   "cell_type": "code",
   "execution_count": 1,
   "id": "26f68613",
   "metadata": {},
   "outputs": [],
   "source": [
    "import numpy as np"
   ]
  },
  {
   "cell_type": "code",
   "execution_count": 2,
   "id": "81a93602",
   "metadata": {},
   "outputs": [
    {
     "data": {
      "text/plain": [
       "array([95, 93, 87, 77, 67, 63, 50, 43, 43, 37, 34, 34, 25, 12,  3],\n",
       "      dtype=int32)"
      ]
     },
     "execution_count": 2,
     "metadata": {},
     "output_type": "execute_result"
    }
   ],
   "source": [
    "a = np.random.randint(1, 100, 15)\n",
    "np.sort(a)[::-1]"
   ]
  },
  {
   "cell_type": "code",
   "execution_count": 3,
   "id": "02133937",
   "metadata": {},
   "outputs": [
    {
     "data": {
      "text/plain": [
       "array([[24, 34, 62],\n",
       "       [39, 46, 89],\n",
       "       [42, 51, 89],\n",
       "       [22, 29, 84],\n",
       "       [19, 68, 87]], dtype=int32)"
      ]
     },
     "execution_count": 3,
     "metadata": {},
     "output_type": "execute_result"
    }
   ],
   "source": [
    "b = np.random.randint(1, 100, 15).reshape(5, 3)\n",
    "np.sort(b, axis=0)  # 0 => col by sort , 1 => row by sort\n",
    "np.sort(b, axis=1)  # 0 => col by sort , 1 => row by sort"
   ]
  },
  {
   "cell_type": "markdown",
   "id": "fe88e0fb",
   "metadata": {},
   "source": [
    "np.append"
   ]
  },
  {
   "cell_type": "code",
   "execution_count": 4,
   "id": "a4e6d917",
   "metadata": {},
   "outputs": [
    {
     "data": {
      "text/plain": [
       "array([ 34,   3,  93,  63,  67,  25,  37,  43,  95,  50,  34,  12,  77,\n",
       "        43,  87, 200])"
      ]
     },
     "execution_count": 4,
     "metadata": {},
     "output_type": "execute_result"
    }
   ],
   "source": [
    "a\n",
    "np.append(a, 200)"
   ]
  },
  {
   "cell_type": "code",
   "execution_count": 40,
   "id": "0e7856d4",
   "metadata": {},
   "outputs": [
    {
     "data": {
      "text/plain": [
       "array([[62, 24, 34,  8],\n",
       "       [89, 46, 39, 22],\n",
       "       [51, 89, 42, 70],\n",
       "       [29, 22, 84, 52],\n",
       "       [68, 19, 87, 69]], dtype=int32)"
      ]
     },
     "execution_count": 40,
     "metadata": {},
     "output_type": "execute_result"
    }
   ],
   "source": [
    "np.append(b, np.random.randint(1, 100, (b.shape[0], 1)), axis=1)"
   ]
  },
  {
   "cell_type": "code",
   "execution_count": 6,
   "id": "0080155a",
   "metadata": {},
   "outputs": [
    {
     "data": {
      "text/plain": [
       "array([[62, 24, 34],\n",
       "       [89, 46, 39],\n",
       "       [51, 89, 42],\n",
       "       [29, 22, 84],\n",
       "       [68, 19, 87],\n",
       "       [85, 37, 69],\n",
       "       [71, 62,  3]], dtype=int32)"
      ]
     },
     "execution_count": 6,
     "metadata": {},
     "output_type": "execute_result"
    }
   ],
   "source": [
    "np.append(b, np.random.randint(1, 100, (2, b.shape[1])), axis=0)"
   ]
  },
  {
   "cell_type": "markdown",
   "id": "611b04f5",
   "metadata": {},
   "source": [
    "np.concatenate"
   ]
  },
  {
   "cell_type": "code",
   "execution_count": 168,
   "id": "89146646",
   "metadata": {},
   "outputs": [
    {
     "name": "stdout",
     "output_type": "stream",
     "text": [
      "[[0 1 2]\n",
      " [3 4 5]]\n",
      "[[ 6  7  8]\n",
      " [ 9 10 11]]\n"
     ]
    }
   ],
   "source": [
    "c = np.arange(6).reshape(2, 3)\n",
    "d = np.arange(6, 12).reshape(2, 3)\n",
    "print(c)\n",
    "print(d)"
   ]
  },
  {
   "cell_type": "code",
   "execution_count": 171,
   "id": "0c790c1d",
   "metadata": {},
   "outputs": [
    {
     "data": {
      "text/plain": [
       "array([[ 0,  1,  2],\n",
       "       [ 3,  4,  5],\n",
       "       [ 6,  7,  8],\n",
       "       [ 9, 10, 11]])"
      ]
     },
     "execution_count": 171,
     "metadata": {},
     "output_type": "execute_result"
    }
   ],
   "source": [
    "np.concatenate((c, d), axis=1)\n",
    "np.concatenate((c, d), axis=0)"
   ]
  },
  {
   "cell_type": "markdown",
   "id": "d03b0c5f",
   "metadata": {},
   "source": [
    "np.unique"
   ]
  },
  {
   "cell_type": "code",
   "execution_count": 173,
   "id": "5283aaf3",
   "metadata": {},
   "outputs": [
    {
     "data": {
      "text/plain": [
       "array([1, 2, 3, 4, 5, 6, 7])"
      ]
     },
     "execution_count": 173,
     "metadata": {},
     "output_type": "execute_result"
    }
   ],
   "source": [
    "e = np.array([1, 1, 2, 2, 3, 3, 4, 4, 5, 5, 6, 6, 7])\n",
    "np.unique(e)"
   ]
  },
  {
   "cell_type": "markdown",
   "id": "980cf7c4",
   "metadata": {},
   "source": [
    "mp.expand_dims"
   ]
  },
  {
   "cell_type": "code",
   "execution_count": 176,
   "id": "2502123d",
   "metadata": {},
   "outputs": [
    {
     "data": {
      "text/plain": [
       "array([[61, 10, 73, 54, 21, 57, 23, 78,  4, 49, 53, 62, 95, 32,  3]],\n",
       "      dtype=int32)"
      ]
     },
     "execution_count": 176,
     "metadata": {},
     "output_type": "execute_result"
    }
   ],
   "source": [
    "np.expand_dims(a, axis=0)"
   ]
  },
  {
   "cell_type": "code",
   "execution_count": 177,
   "id": "c28d3218",
   "metadata": {},
   "outputs": [
    {
     "data": {
      "text/plain": [
       "array([[61],\n",
       "       [10],\n",
       "       [73],\n",
       "       [54],\n",
       "       [21],\n",
       "       [57],\n",
       "       [23],\n",
       "       [78],\n",
       "       [ 4],\n",
       "       [49],\n",
       "       [53],\n",
       "       [62],\n",
       "       [95],\n",
       "       [32],\n",
       "       [ 3]], dtype=int32)"
      ]
     },
     "execution_count": 177,
     "metadata": {},
     "output_type": "execute_result"
    }
   ],
   "source": [
    "np.expand_dims(a, axis=1)"
   ]
  },
  {
   "cell_type": "markdown",
   "id": "c6c5f169",
   "metadata": {},
   "source": [
    "np.where\n",
    "\n",
    "The function returns the indices of element "
   ]
  },
  {
   "cell_type": "code",
   "execution_count": 204,
   "id": "278bf5f6",
   "metadata": {},
   "outputs": [
    {
     "data": {
      "text/plain": [
       "array([ 0, 10,  0,  0, 21,  0, 23,  0,  4, 49,  0,  0,  0, 32,  3],\n",
       "      dtype=int32)"
      ]
     },
     "execution_count": 204,
     "metadata": {},
     "output_type": "execute_result"
    }
   ],
   "source": [
    "a"
   ]
  },
  {
   "cell_type": "code",
   "execution_count": 183,
   "id": "84373f4c",
   "metadata": {},
   "outputs": [
    {
     "data": {
      "text/plain": [
       "(array([ 0,  2,  3,  5,  7, 10, 11, 12]),)"
      ]
     },
     "execution_count": 183,
     "metadata": {},
     "output_type": "execute_result"
    }
   ],
   "source": [
    "np.where(a > 50)"
   ]
  },
  {
   "cell_type": "code",
   "execution_count": 185,
   "id": "9f4c2e57",
   "metadata": {},
   "outputs": [
    {
     "data": {
      "text/plain": [
       "array([ 0, 10,  0,  0, 21,  0, 23,  0,  4, 49,  0,  0,  0, 32,  3],\n",
       "      dtype=int32)"
      ]
     },
     "execution_count": 185,
     "metadata": {},
     "output_type": "execute_result"
    }
   ],
   "source": [
    "# replace all values > 50 with 0\n",
    "# np.where(condition , true , false)\n",
    "np.where(a > 50, 0, a)\n",
    "# a[np.where(a > 50)] = 0"
   ]
  },
  {
   "cell_type": "code",
   "execution_count": 186,
   "id": "83021998",
   "metadata": {},
   "outputs": [
    {
     "data": {
      "text/plain": [
       "array([ 0,  0,  0,  0, 21,  0, 23,  0,  0, 49,  0,  0,  0,  0,  3],\n",
       "      dtype=int32)"
      ]
     },
     "execution_count": 186,
     "metadata": {},
     "output_type": "execute_result"
    }
   ],
   "source": [
    "# replace all even number with 0\n",
    "np.where(a % 2 == 0, 0, a)"
   ]
  },
  {
   "cell_type": "markdown",
   "id": "d9e0939b",
   "metadata": {},
   "source": [
    "np.argmax"
   ]
  },
  {
   "cell_type": "code",
   "execution_count": 189,
   "id": "7c44ba12",
   "metadata": {},
   "outputs": [
    {
     "data": {
      "text/plain": [
       "np.int64(9)"
      ]
     },
     "execution_count": 189,
     "metadata": {},
     "output_type": "execute_result"
    }
   ],
   "source": [
    "np.argmax(a)"
   ]
  },
  {
   "cell_type": "code",
   "execution_count": 199,
   "id": "464757b2",
   "metadata": {},
   "outputs": [
    {
     "name": "stdout",
     "output_type": "stream",
     "text": [
      "[[66 16 54]\n",
      " [ 9 73 58]\n",
      " [84 68 67]\n",
      " [64 16 65]\n",
      " [79 60 58]]\n"
     ]
    },
    {
     "data": {
      "text/plain": [
       "array([0, 1, 0, 2, 0])"
      ]
     },
     "execution_count": 199,
     "metadata": {},
     "output_type": "execute_result"
    }
   ],
   "source": [
    "print(b)\n",
    "np.argmax(b, axis=1)  # 0 => col and 1=> row"
   ]
  },
  {
   "cell_type": "code",
   "execution_count": 235,
   "id": "8e43a96b",
   "metadata": {},
   "outputs": [
    {
     "name": "stdout",
     "output_type": "stream",
     "text": [
      "[29 83 29 40 40 70 29 94 96 27 40 92 13 34 21 67 12 22 38  1 30 98 66 93\n",
      " 68 60 53 46 37 12  9 53 74 92 48 26 40  2 17  7 91 58 72 96 70 75 61 20\n",
      "  1 26]\n"
     ]
    },
    {
     "data": {
      "text/plain": [
       "np.int64(19)"
      ]
     },
     "execution_count": 235,
     "metadata": {},
     "output_type": "execute_result"
    }
   ],
   "source": [
    "# argmin\n",
    "a = np.random.randint(1, 100, 50)\n",
    "print(a)\n",
    "np.argmin(a)"
   ]
  },
  {
   "cell_type": "code",
   "execution_count": 248,
   "id": "76559a7b",
   "metadata": {},
   "outputs": [
    {
     "name": "stdout",
     "output_type": "stream",
     "text": [
      "[[66 16 54]\n",
      " [ 9 73 58]\n",
      " [84 68 67]\n",
      " [64 16 65]\n",
      " [79 60 58]]\n",
      "[1 0 0]\n"
     ]
    },
    {
     "data": {
      "text/plain": [
       "array([1, 0, 2, 1, 2])"
      ]
     },
     "execution_count": 248,
     "metadata": {},
     "output_type": "execute_result"
    }
   ],
   "source": [
    "print(b)\n",
    "print(np.argmin(b, axis=0))\n",
    "np.argmin(b, axis=1)"
   ]
  },
  {
   "cell_type": "markdown",
   "id": "399bc143",
   "metadata": {},
   "source": [
    "np.cumsum"
   ]
  },
  {
   "cell_type": "code",
   "execution_count": 263,
   "id": "7cec8cc8",
   "metadata": {},
   "outputs": [
    {
     "name": "stdout",
     "output_type": "stream",
     "text": [
      "[[66 16 54]\n",
      " [ 9 73 58]\n",
      " [84 68 67]\n",
      " [64 16 65]\n",
      " [79 60 58]]\n"
     ]
    },
    {
     "data": {
      "text/plain": [
       "array([[ 66,  16,  54],\n",
       "       [ 75,  89, 112],\n",
       "       [159, 157, 179],\n",
       "       [223, 173, 244],\n",
       "       [302, 233, 302]])"
      ]
     },
     "execution_count": 263,
     "metadata": {},
     "output_type": "execute_result"
    }
   ],
   "source": [
    "print(b)\n",
    "np.cumsum(b, axis=0)  # 0=> means it sum in the column and 1 => means it sum in the row"
   ]
  },
  {
   "cell_type": "code",
   "execution_count": 266,
   "id": "854d3d65",
   "metadata": {},
   "outputs": [
    {
     "data": {
      "text/plain": [
       "array([  29,  112,  141,  181,  221,  291,  320,  414,  510,  537,  577,\n",
       "        669,  682,  716,  737,  804,  816,  838,  876,  877,  907, 1005,\n",
       "       1071, 1164, 1232, 1292, 1345, 1391, 1428, 1440, 1449, 1502, 1576,\n",
       "       1668, 1716, 1742, 1782, 1784, 1801, 1808, 1899, 1957, 2029, 2125,\n",
       "       2195, 2270, 2331, 2351, 2352, 2378])"
      ]
     },
     "execution_count": 266,
     "metadata": {},
     "output_type": "execute_result"
    }
   ],
   "source": [
    "np.cumsum(a)"
   ]
  },
  {
   "cell_type": "code",
   "execution_count": 270,
   "id": "d6306b82",
   "metadata": {},
   "outputs": [
    {
     "data": {
      "text/plain": [
       "array([                  29,                 2407,                69803,\n",
       "                    2792120,            111684800,           7817936000,\n",
       "               226720144000,       21311693536000,     2045922579456000,\n",
       "          55239909645312000,  2209596385812480000,   368682683943092224,\n",
       "        4792874891260198912, -3062950360539201536, -8981725350194577408,\n",
       "        6966955969378516992, -8630248736005554176, -5398031455026675712,\n",
       "       -2211010480208609280, -2211010480208609280,  7456661888579928064,\n",
       "       -7116897867549114368, -8546657415502757888, -1629144472245764096,\n",
       "        -101359670454648832, -6081580227278929920, -8729102792720908288,\n",
       "        4289641156448354304, -7303973874796855296,  4586033870985494528,\n",
       "        4380816691450347520, -7624388311355752448,  7644331244670418944,\n",
       "        2302199708715581440,  -174878423909400576, -4546839021644414976,\n",
       "        2593879871318917120,  5187759742637834240, -4041804743704576000,\n",
       "        8600854941487071232,  7914548579522314240, -2124784230444564480,\n",
       "       -5410512002332229632, -2900318160026599424,  -108086391056891904,\n",
       "       -8106479329266892800,  3566850904877432832, -2449958197289549824,\n",
       "       -2449958197289549824, -8358680908399640576])"
      ]
     },
     "execution_count": 270,
     "metadata": {},
     "output_type": "execute_result"
    }
   ],
   "source": [
    "# np.cumprod\n",
    "\n",
    "np.cumprod(a)"
   ]
  },
  {
   "cell_type": "markdown",
   "id": "9bedf8cd",
   "metadata": {},
   "source": [
    "np.percentile"
   ]
  },
  {
   "cell_type": "code",
   "execution_count": null,
   "id": "cc573485",
   "metadata": {},
   "outputs": [
    {
     "name": "stdout",
     "output_type": "stream",
     "text": [
      "[29 83 29 40 40 70 29 94 96 27 40 92 13 34 21 67 12 22 38  1 30 98 66 93\n",
      " 68 60 53 46 37 12  9 53 74 92 48 26 40  2 17  7 91 58 72 96 70 75 61 20\n",
      "  1 26]\n"
     ]
    },
    {
     "data": {
      "text/plain": [
       "np.float64(40.0)"
      ]
     },
     "execution_count": 281,
     "metadata": {},
     "output_type": "execute_result"
    }
   ],
   "source": [
    "print(a)\n",
    "# print(np.sum(a) * 0.1)\n",
    "np.percentile(a, 50)"
   ]
  },
  {
   "cell_type": "code",
   "execution_count": 282,
   "id": "cbc42347",
   "metadata": {},
   "outputs": [
    {
     "data": {
      "text/plain": [
       "np.float64(40.0)"
      ]
     },
     "execution_count": 282,
     "metadata": {},
     "output_type": "execute_result"
    }
   ],
   "source": [
    "np.median(a)"
   ]
  },
  {
   "cell_type": "markdown",
   "id": "16393a3d",
   "metadata": {},
   "source": [
    "np.histogram"
   ]
  },
  {
   "cell_type": "code",
   "execution_count": 14,
   "id": "b97ff82f",
   "metadata": {},
   "outputs": [],
   "source": [
    "a = np.random.randint(1, 100, 50)"
   ]
  },
  {
   "cell_type": "code",
   "execution_count": 16,
   "id": "f532b576",
   "metadata": {},
   "outputs": [
    {
     "data": {
      "text/plain": [
       "(array([7, 3, 3, 8, 4, 6, 3, 7, 5, 4]),\n",
       " array([  0,  10,  20,  30,  40,  50,  60,  70,  80,  90, 100]))"
      ]
     },
     "execution_count": 16,
     "metadata": {},
     "output_type": "execute_result"
    }
   ],
   "source": [
    "np.histogram(a, bins=[0, 10, 20, 30, 40, 50, 60, 70, 80, 90, 100])"
   ]
  },
  {
   "cell_type": "markdown",
   "id": "48e6f3d9",
   "metadata": {},
   "source": [
    " np.corrcoef"
   ]
  },
  {
   "cell_type": "code",
   "execution_count": 17,
   "id": "982e8ea7",
   "metadata": {},
   "outputs": [
    {
     "data": {
      "text/plain": [
       "array([[1.        , 0.25344572],\n",
       "       [0.25344572, 1.        ]])"
      ]
     },
     "execution_count": 17,
     "metadata": {},
     "output_type": "execute_result"
    }
   ],
   "source": [
    "salary = np.array([20000, 40000, 25000, 35000, 60000])\n",
    "experience = np.array([1, 3, 2, 4, 2])\n",
    "\n",
    "np.corrcoef(salary, experience)"
   ]
  },
  {
   "cell_type": "markdown",
   "id": "1b83a51b",
   "metadata": {},
   "source": [
    "np.isin"
   ]
  },
  {
   "cell_type": "code",
   "execution_count": null,
   "id": "0ebb802f",
   "metadata": {},
   "outputs": [],
   "source": []
  },
  {
   "cell_type": "code",
   "execution_count": 19,
   "id": "db8579fd",
   "metadata": {},
   "outputs": [
    {
     "data": {
      "text/plain": [
       "array([20, 70, 60, 30, 50], dtype=int32)"
      ]
     },
     "execution_count": 19,
     "metadata": {},
     "output_type": "execute_result"
    }
   ],
   "source": [
    "item = [10, 20, 30, 40, 50, 60, 70, 80]\n",
    "a[np.isin(a, item)]"
   ]
  },
  {
   "cell_type": "markdown",
   "id": "a2443d25",
   "metadata": {},
   "source": [
    "np.filip"
   ]
  },
  {
   "cell_type": "code",
   "execution_count": 25,
   "id": "39328262",
   "metadata": {},
   "outputs": [
    {
     "name": "stdout",
     "output_type": "stream",
     "text": [
      "[[62 24 34]\n",
      " [89 46 39]\n",
      " [51 89 42]\n",
      " [29 22 84]\n",
      " [68 19 87]]\n"
     ]
    },
    {
     "data": {
      "text/plain": [
       "array([[34, 24, 62],\n",
       "       [39, 46, 89],\n",
       "       [42, 89, 51],\n",
       "       [84, 22, 29],\n",
       "       [87, 19, 68]], dtype=int32)"
      ]
     },
     "execution_count": 25,
     "metadata": {},
     "output_type": "execute_result"
    }
   ],
   "source": [
    "print(b)\n",
    "np.flip(b, axis=1)"
   ]
  },
  {
   "cell_type": "markdown",
   "id": "b0ad2184",
   "metadata": {},
   "source": [
    "np.put"
   ]
  },
  {
   "cell_type": "code",
   "execution_count": null,
   "id": "2e48ee83",
   "metadata": {},
   "outputs": [],
   "source": [
    "np.put(a, [0, 1], [110, 530]) # you can change multiple item in a array"
   ]
  },
  {
   "cell_type": "code",
   "execution_count": 29,
   "id": "d0f842c8",
   "metadata": {},
   "outputs": [
    {
     "data": {
      "text/plain": [
       "array([110, 530,  20,  54,   5,  44,  89,  55,  33,  21,  79,  34,  84,\n",
       "        77,  44,  83,  99,   4,  34,   3,  41,  55,  93,  75,  93,  70,\n",
       "        18,  60,  76,   2,  88,  76,  88,   3,  69,  14,  36,  95,  52,\n",
       "        56,  48,   5,  78,  30,   8,  69,  50,  32,  19,  33], dtype=int32)"
      ]
     },
     "execution_count": 29,
     "metadata": {},
     "output_type": "execute_result"
    }
   ],
   "source": [
    "a"
   ]
  },
  {
   "cell_type": "code",
   "execution_count": 31,
   "id": "2a4c2473",
   "metadata": {},
   "outputs": [
    {
     "data": {
      "text/plain": [
       "array([20, 54,  5, 44, 89, 55, 33, 21, 79, 34, 84, 77, 44, 83, 99,  4, 34,\n",
       "        3, 41, 55, 93, 75, 93, 70, 18, 60, 76,  2, 88, 76, 88,  3, 69, 14,\n",
       "       36, 95, 52, 56, 48,  5, 78, 30,  8, 69, 50, 32, 19, 33],\n",
       "      dtype=int32)"
      ]
     },
     "execution_count": 31,
     "metadata": {},
     "output_type": "execute_result"
    }
   ],
   "source": [
    "np.delete(a, [0, 1])"
   ]
  }
 ],
 "metadata": {
  "kernelspec": {
   "display_name": "Python 3",
   "language": "python",
   "name": "python3"
  },
  "language_info": {
   "codemirror_mode": {
    "name": "ipython",
    "version": 3
   },
   "file_extension": ".py",
   "mimetype": "text/x-python",
   "name": "python",
   "nbconvert_exporter": "python",
   "pygments_lexer": "ipython3",
   "version": "3.12.10"
  }
 },
 "nbformat": 4,
 "nbformat_minor": 5
}
